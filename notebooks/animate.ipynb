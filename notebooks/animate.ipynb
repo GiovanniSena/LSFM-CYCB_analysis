{
 "cells": [
  {
   "cell_type": "code",
   "execution_count": null,
   "metadata": {
    "collapsed": false
   },
   "outputs": [],
   "source": [
    "import numpy as np\n",
    "import matplotlib.pyplot as plt\n",
    "import matplotlib.animation as animation\n",
    "from IPython.display import HTML\n",
    "import matplotlib.cm as cm\n",
    "import matplotlib.lines as mlines\n",
    "from mpl_toolkits.mplot3d import Axes3D\n",
    "import matplotlib.colors as colors\n",
    "from glob import glob\n",
    "import pandas as pd\n",
    "%matplotlib inline\n",
    "\n",
    "# def plot_scatter_matrix(xs,ys,zs,cs=None):\n",
    "#     fig = plt.figure(figsize=(20,15))\n",
    "#     ax = fig.add_subplot(111, projection='3d')\n",
    "#     p = ax.scatter(xs, ys, zs, ) # c=cs,cmap='spectral'\n",
    "#     ax.set_xlabel('X')\n",
    "#     ax.set_ylabel('Y')\n",
    "#     ax.set_zlabel('Z')\n",
    "#     ax.set_ylim(0, 1200)\n",
    "#     ax.set_xlim(0, 1200)\n",
    "#     ax.set_zlim(0, 150)\n",
    "     \n",
    "#     ax.w_xaxis.set_pane_color((1.0, 1.0, 1.0, 1.0))\n",
    "#     ax.w_yaxis.set_pane_color((1.0, 1.0, 1.0, 1.0))\n",
    "\n",
    "#     return fig,p\n",
    "\n",
    "# def update_graph(df, graph):\n",
    "#     def _update_graph(num):\n",
    "#         data=df[df['t']==num]\n",
    "#         graph._offsets3d = (data.x, data.y, data.z)\n",
    "#         return graph\n",
    "#         #title.set_text('3D Test, time={}'.format(num))\n",
    "#     return _update_graph\n",
    "\n",
    "df = pd.read_csv(\"centroids2.txt\").drop(\"Unnamed: 0\",1)\n",
    "#df = df[df.z < 30].reset_index().drop(\"index\",1)\n",
    "df.head()"
   ]
  },
  {
   "cell_type": "code",
   "execution_count": null,
   "metadata": {
    "collapsed": false
   },
   "outputs": [],
   "source": [
    "#df = df[df.t < 50].reset_index().drop(\"index\",1)"
   ]
  },
  {
   "cell_type": "code",
   "execution_count": null,
   "metadata": {
    "collapsed": false
   },
   "outputs": [],
   "source": [
    "#pd.read_csv(\"./centroids/t0.csv\")[[\"x\",\"y\", \"z\"]]\n"
   ]
  },
  {
   "cell_type": "code",
   "execution_count": null,
   "metadata": {
    "collapsed": false
   },
   "outputs": [],
   "source": [
    "# image_list = []\n",
    "# for f in glob(\"./centroids/*.*\"):\n",
    "#     #print(f)\n",
    "#     image_list.append(pd.read_csv(f)[[\"x\",\"y\", \"z\", \"t\"]])\n",
    "\n",
    "# df = pd.concat(image_list)\n",
    "\n",
    "# df.head()\n",
    "def update_graph(num):\n",
    "    try:\n",
    "        data=df[df['t']==num].reset_index()\n",
    "        graph.set_data (data.x, data.y)\n",
    "        graph.set_3d_properties(data.z)\n",
    "        title.set_text('3D Test, time={}'.format(num))\n",
    "        return title, graph, \n",
    "    except:\n",
    "        print(\"num is missing\")\n",
    "        raise Exception(\"There is no data at \"+str(num))"
   ]
  },
  {
   "cell_type": "code",
   "execution_count": null,
   "metadata": {
    "collapsed": false
   },
   "outputs": [],
   "source": [
    "fig = plt.figure(figsize=(15,10))\n",
    "ax = fig.add_subplot(111, projection='3d')\n",
    "ax.set_ylim(0, 1000)\n",
    "ax.set_xlim(0, 1000)\n",
    "ax.set_zlim(0, 50)\n",
    "title = ax.set_title('3D Test')\n",
    "data=df[df['t']==0].reset_index()\n",
    "data = data.astype(int)\n",
    "graph, = ax.plot(data.x, data.y, data.z, linestyle=\"\", marker=\"o\")"
   ]
  },
  {
   "cell_type": "code",
   "execution_count": null,
   "metadata": {
    "collapsed": false
   },
   "outputs": [],
   "source": [
    "#data.plot(kind='scatter',x='y',y='x', ylim=(1000,0))"
   ]
  },
  {
   "cell_type": "code",
   "execution_count": null,
   "metadata": {
    "collapsed": false
   },
   "outputs": [],
   "source": [
    "ani = animation.FuncAnimation(fig, update_graph, int(df.t.max()),interval=500, blit=True)\n",
    "ok = HTML(ani.to_html5_video())\n",
    "ok"
   ]
  },
  {
   "cell_type": "code",
   "execution_count": null,
   "metadata": {
    "collapsed": true
   },
   "outputs": [],
   "source": []
  },
  {
   "cell_type": "code",
   "execution_count": null,
   "metadata": {
    "collapsed": true
   },
   "outputs": [],
   "source": []
  }
 ],
 "metadata": {
  "kernelspec": {
   "display_name": "Python 3",
   "language": "python",
   "name": "python3"
  },
  "language_info": {
   "codemirror_mode": {
    "name": "ipython",
    "version": 3
   },
   "file_extension": ".py",
   "mimetype": "text/x-python",
   "name": "python",
   "nbconvert_exporter": "python",
   "pygments_lexer": "ipython3",
   "version": "3.5.2"
  }
 },
 "nbformat": 4,
 "nbformat_minor": 0
}
