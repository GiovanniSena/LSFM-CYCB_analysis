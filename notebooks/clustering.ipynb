{
 "cells": [
  {
   "cell_type": "code",
   "execution_count": null,
   "metadata": {
    "collapsed": false
   },
   "outputs": [],
   "source": [
    "import pandas as pd \n",
    "import hdbscan\n",
    "from matplotlib import pyplot as plt\n",
    "from skimage import io\n",
    "%matplotlib inline\n",
    "data = pd.read_csv(\"../cached_data/augmented.txt\")\n",
    "data.head()"
   ]
  },
  {
   "cell_type": "code",
   "execution_count": null,
   "metadata": {
    "collapsed": false
   },
   "outputs": [],
   "source": [
    "i=30\n",
    "#TODO - determine what are the right parameters (if any) for clustering from to frame\n",
    "clusterer = hdbscan.HDBSCAN(min_cluster_size=20)\n",
    "df = data[data.t==i][[\"x\", \"y\", \"z\"]]\n",
    "df[\"C1\"] = clusterer.fit_predict(df.as_matrix())\n",
    "file = \"C:/Users/sirsh/Documents/BioMedia/Todd/020817/Run0142_tp{}_MIP.tif\".format(i)\n",
    "im = io.imread(file)[300:900,:]\n",
    "fig,ax = plt.subplots(1,figsize=(20,10))\n",
    "ax.imshow(im)\n",
    "plt.scatter(x=df.x, y=df.y, c='C1', s=50,cmap='spectral')\n",
    "    "
   ]
  },
  {
   "cell_type": "code",
   "execution_count": null,
   "metadata": {
    "collapsed": true
   },
   "outputs": [],
   "source": []
  },
  {
   "cell_type": "code",
   "execution_count": null,
   "metadata": {
    "collapsed": true
   },
   "outputs": [],
   "source": []
  }
 ],
 "metadata": {
  "kernelspec": {
   "display_name": "Python 3",
   "language": "python",
   "name": "python3"
  },
  "language_info": {
   "codemirror_mode": {
    "name": "ipython",
    "version": 3
   },
   "file_extension": ".py",
   "mimetype": "text/x-python",
   "name": "python",
   "nbconvert_exporter": "python",
   "pygments_lexer": "ipython3",
   "version": "3.5.2"
  }
 },
 "nbformat": 4,
 "nbformat_minor": 0
}
