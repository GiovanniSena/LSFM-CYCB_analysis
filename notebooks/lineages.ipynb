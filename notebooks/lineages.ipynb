{
 "cells": [
  {
   "cell_type": "code",
   "execution_count": 1,
   "metadata": {},
   "outputs": [
    {
     "name": "stdout",
     "output_type": "stream",
     "text": [
      "05/02/2018 09:09:37 INFO(None):loaded lightroot\n"
     ]
    }
   ],
   "source": [
    "%matplotlib inline\n",
    "import pandas as pd\n",
    "import numpy as np\n",
    "import seaborn as sns\n",
    "import sys\n",
    "sys.path.insert(0,'../')\n",
    "from lightroot.lineage import *\n",
    "#data frame with t, id\n",
    "# def matrix_life_mask(times,max_time):\n",
    "#     ar = np.zeros(max_time)\n",
    "#     ar[times] = 1\n",
    "#     return ar\n",
    "\n",
    "# def make_life_mat(df):\n",
    "#     maxt = df.t.dropna().max()+1\n",
    "#     index = []\n",
    "#     mat = []\n",
    "#     for k,g in df.groupby(\"key\"):\n",
    "#         l = list(g.t.dropna().values)\n",
    "#         vals = matrix_life_mask(l, maxt)\n",
    "#         index.append(k)\n",
    "#         mat.append(vals)\n",
    "#     return pd.DataFrame(mat, index=index)\n",
    "\n",
    "# def make_fluc_mat(df):\n",
    "#     return df[[\"epsilon\", \"key\", \"t\"]].groupby([\"t\", \"key\"])[[\"epsilon\"]].\\\n",
    "#     mean().reset_index().pivot(\"key\", \"t\", \"epsilon\").fillna(0)"
   ]
  },
  {
   "cell_type": "code",
   "execution_count": 6,
   "metadata": {},
   "outputs": [
    {
     "data": {
      "text/html": [
       "<div>\n",
       "<style>\n",
       "    .dataframe thead tr:only-child th {\n",
       "        text-align: right;\n",
       "    }\n",
       "\n",
       "    .dataframe thead th {\n",
       "        text-align: left;\n",
       "    }\n",
       "\n",
       "    .dataframe tbody tr th {\n",
       "        vertical-align: top;\n",
       "    }\n",
       "</style>\n",
       "<table border=\"1\" class=\"dataframe\">\n",
       "  <thead>\n",
       "    <tr style=\"text-align: right;\">\n",
       "      <th></th>\n",
       "      <th>t</th>\n",
       "      <th>key</th>\n",
       "      <th>x</th>\n",
       "      <th>y</th>\n",
       "      <th>z</th>\n",
       "      <th>epsilon</th>\n",
       "    </tr>\n",
       "  </thead>\n",
       "  <tbody>\n",
       "    <tr>\n",
       "      <th>0</th>\n",
       "      <td>1</td>\n",
       "      <td>0</td>\n",
       "      <td>148.0</td>\n",
       "      <td>48.5</td>\n",
       "      <td>4.5</td>\n",
       "      <td>0.0</td>\n",
       "    </tr>\n",
       "    <tr>\n",
       "      <th>1</th>\n",
       "      <td>1</td>\n",
       "      <td>2</td>\n",
       "      <td>180.5</td>\n",
       "      <td>286.5</td>\n",
       "      <td>4.5</td>\n",
       "      <td>0.0</td>\n",
       "    </tr>\n",
       "    <tr>\n",
       "      <th>2</th>\n",
       "      <td>1</td>\n",
       "      <td>1</td>\n",
       "      <td>291.5</td>\n",
       "      <td>231.5</td>\n",
       "      <td>5.0</td>\n",
       "      <td>0.0</td>\n",
       "    </tr>\n",
       "  </tbody>\n",
       "</table>\n",
       "</div>"
      ],
      "text/plain": [
       "   t  key      x      y    z  epsilon\n",
       "0  1    0  148.0   48.5  4.5      0.0\n",
       "1  1    2  180.5  286.5  4.5      0.0\n",
       "2  1    1  291.5  231.5  5.0      0.0"
      ]
     },
     "execution_count": 6,
     "metadata": {},
     "output_type": "execute_result"
    }
   ],
   "source": [
    "df=pd.read_csv(\"../cached_data/tracked_blobs.csv\", comment='#')\n",
    "df"
   ]
  },
  {
   "cell_type": "code",
   "execution_count": 7,
   "metadata": {},
   "outputs": [],
   "source": [
    "\n",
    "df.t =df.t+1\n",
    "\n",
    "fluc_mat = make_fluc_mat(df)\n",
    "life_mat = make_life_mat(df)\n",
    "\n",
    "bandd = life_mat.diff(1,axis=1,).fillna(0) #* lifetime_matrix\n",
    "births = bandd[bandd==1].fillna(0)\n",
    "deaths = np.abs(bandd[bandd==-1]).fillna(0)\n",
    "ageMat = life_mat.cumsum(axis=1) * life_mat\n",
    "KEY = \"310717_Run0140\"\n",
    "life_mat.to_csv(\"../cached_data/lifemat_{}.txt\".format(KEY),index=None)"
   ]
  },
  {
   "cell_type": "code",
   "execution_count": null,
   "metadata": {},
   "outputs": [],
   "source": [
    "life_mat"
   ]
  },
  {
   "cell_type": "code",
   "execution_count": null,
   "metadata": {},
   "outputs": [],
   "source": [
    "\n",
    "restricted = life_mat.sum(axis=1).reset_index()#.set_index(\"index\")\n",
    "restricted = life_mat[restricted[0]>1]\n",
    "restricted.head()"
   ]
  },
  {
   "cell_type": "code",
   "execution_count": null,
   "metadata": {},
   "outputs": [],
   "source": [
    "ageMat"
   ]
  },
  {
   "cell_type": "code",
   "execution_count": null,
   "metadata": {
    "collapsed": true
   },
   "outputs": [],
   "source": [
    "# chk=df[20:].reset_index().drop(\"Unnamed: 0\",1).drop(\"s\", 1).drop(\"level_0\",1).drop(\"index\",1)\n",
    "# chk.epsilon = chk.epsilon.fillna(0).round(4)\n",
    "# chk[[\"key\",\"t\", \"x\", \"y\", \"z\", \"epsilon\"]].to_csv(\"raw.csv\", index=None)"
   ]
  },
  {
   "cell_type": "code",
   "execution_count": null,
   "metadata": {
    "collapsed": true
   },
   "outputs": [],
   "source": [
    "life_mat.astype(int).to_csv(\"life_matrix.csv\", index=None)"
   ]
  },
  {
   "cell_type": "code",
   "execution_count": null,
   "metadata": {},
   "outputs": [],
   "source": [
    "fluc_mat.mean().plot(figsize=(20,10))"
   ]
  },
  {
   "cell_type": "code",
   "execution_count": null,
   "metadata": {},
   "outputs": [],
   "source": [
    "from matplotlib import pyplot as plt\n",
    "plt.figure(figsize=(20,10))\n",
    "sns.heatmap(fluc_mat,)"
   ]
  },
  {
   "cell_type": "code",
   "execution_count": null,
   "metadata": {},
   "outputs": [],
   "source": [
    "plt.figure(figsize=(20,10))\n",
    "#life_mat_snap = make_life_mat(df[(df.t> 20) &(df.t< 50)])\n",
    "sns.heatmap(life_mat)"
   ]
  },
  {
   "cell_type": "code",
   "execution_count": null,
   "metadata": {},
   "outputs": [],
   "source": [
    "plt.figure(figsize=(20,10))\n",
    "#life_mat_snap = make_life_mat(df[(df.t> 20) &(df.t< 50)])\n",
    "sns.heatmap(life_mat)\n",
    "restricted.index.name=\"idx\"\n",
    "wind_restricted = restricted[(restricted.index > 80) &(restricted.index < 600)]\n",
    "sns.heatmap(wind_restricted)\n"
   ]
  },
  {
   "cell_type": "code",
   "execution_count": null,
   "metadata": {},
   "outputs": [],
   "source": []
  },
  {
   "cell_type": "code",
   "execution_count": null,
   "metadata": {},
   "outputs": [],
   "source": [
    "time = life_mat.sum(axis=0).reset_index().drop(\"index\",1)\n",
    "time.columns = [\"alive\"]\n",
    "time[\"births\"] = births.sum()\n",
    "time[\"deaths\"] = deaths.sum()\n",
    "time[\"observed_by_t\"] = births.sum().cumsum().astype(int)\n",
    "time[\"mean_age_at_t\"]  = ageMat.replace(0, np.nan).mean().round(2).fillna(0)\n",
    "time.index.name = 't'\n",
    "time = time.reset_index()\n",
    "time\n",
    "#time.to_csv(\"timeseries.csv\",index=None)"
   ]
  },
  {
   "cell_type": "code",
   "execution_count": null,
   "metadata": {},
   "outputs": [],
   "source": [
    "#alive\n",
    "life_mat.sum(axis=0).plot(title=\"alive\",figsize=(20,10))"
   ]
  },
  {
   "cell_type": "code",
   "execution_count": null,
   "metadata": {},
   "outputs": [],
   "source": [
    "births.sum().plot(title=\"births\",figsize=(20,10))"
   ]
  },
  {
   "cell_type": "code",
   "execution_count": null,
   "metadata": {},
   "outputs": [],
   "source": [
    "births.sum().cumsum().plot(title=\"total cells\",figsize=(20,10))"
   ]
  },
  {
   "cell_type": "code",
   "execution_count": null,
   "metadata": {},
   "outputs": [],
   "source": [
    "mean_age = ageMat.replace(0, np.nan).mean()\n",
    "mean_age.plot(figsize=(20,10))"
   ]
  },
  {
   "cell_type": "code",
   "execution_count": null,
   "metadata": {},
   "outputs": [],
   "source": [
    "restricted = life_mat.sum(axis=1).reset_index()#.set_index(\"index\")\n",
    "restricted = life_mat[restricted[0]>1]\n",
    "restricted.head()"
   ]
  },
  {
   "cell_type": "code",
   "execution_count": null,
   "metadata": {},
   "outputs": [],
   "source": [
    "bandd = wind_restricted.diff(1,axis=1,).fillna(0) #* lifetime_matrix\n",
    "births = bandd[bandd==1].fillna(0)\n",
    "births.sum().plot(title=\"births\",figsize=(20,10))"
   ]
  },
  {
   "cell_type": "code",
   "execution_count": null,
   "metadata": {},
   "outputs": [],
   "source": [
    "ts = births.sum().reset_index()\n",
    "ts[\"minutes\"]=ts[\"index\"] * 15\n",
    "ts[\"hours\"] = ts[\"minutes\"] / 60.\n",
    "ts[\"days\"] = ts[\"hours\"] / 24.\n",
    "ts = ts.rename(columns={0:\"val\"})\n",
    "ts  = ts[[\"val\", \"hours\", \"minutes\"]].set_index(\"hours\")\n",
    "ts"
   ]
  },
  {
   "cell_type": "code",
   "execution_count": null,
   "metadata": {
    "collapsed": true
   },
   "outputs": [],
   "source": [
    "ts[\"pseudoDate\"] = \"1 jan 2012\"\n",
    "ts.pseudoDate = pd.to_datetime(ts.pseudoDate)\n",
    "ts[\"pseudoDate\"] = ts.pseudoDate + pd.to_timedelta(ts.minutes, \"m\")\n",
    "ts = ts.set_index(\"pseudoDate\")[[\"val\"]]\n",
    "ts = ts[ts >0].dropna()"
   ]
  },
  {
   "cell_type": "code",
   "execution_count": null,
   "metadata": {},
   "outputs": [],
   "source": [
    "from statsmodels.tsa.seasonal import seasonal_decompose"
   ]
  },
  {
   "cell_type": "code",
   "execution_count": null,
   "metadata": {
    "collapsed": true
   },
   "outputs": [],
   "source": [
    "from statsmodels.tsa.stattools import adfuller\n",
    "def test_stationarity(timeseries):\n",
    "\n",
    "    #Determing rolling statistics\n",
    "    rolmean = pd.rolling_mean(timeseries, window=12)\n",
    "    rolstd = pd.rolling_std(timeseries, window=12)\n",
    "\n",
    "    #Plot rolling statistics:\n",
    "    fig = plt.figure(figsize=(12, 4))\n",
    "    orig = plt.plot(timeseries, color='blue',label='Original')\n",
    "    mean = plt.plot(rolmean, color='red', label='Rolling Mean')\n",
    "    std = plt.plot(rolstd, color='black', label = 'Rolling Std')\n",
    "    plt.legend(loc='best')\n",
    "    plt.title('Rolling Mean & Standard Deviation')\n",
    "    plt.show()\n",
    "    \n",
    "    #Perform Dickey-Fuller test:\n",
    "    print ('Results of Dickey-Fuller Test:')\n",
    "    dftest = adfuller(timeseries, autolag='AIC')\n",
    "    dfoutput = pd.Series(dftest[0:4], index=['Test Statistic','p-value','#Lags Used','Number of Observations Used'])\n",
    "    for key,value in dftest[4].items():\n",
    "        dfoutput['Critical Value (%s)'%key] = value\n",
    "    print (dfoutput)"
   ]
  },
  {
   "cell_type": "code",
   "execution_count": null,
   "metadata": {},
   "outputs": [],
   "source": [
    "test_stationarity(ts.val.values)"
   ]
  },
  {
   "cell_type": "code",
   "execution_count": null,
   "metadata": {},
   "outputs": [],
   "source": [
    "hts = ts.resample(\"h\").mean()\n",
    "hts.plot()\n"
   ]
  },
  {
   "cell_type": "code",
   "execution_count": null,
   "metadata": {},
   "outputs": [],
   "source": [
    "from statsmodels.tsa.seasonal import seasonal_decompose\n",
    "result = seasonal_decompose(ts.val.values,freq=4*12)\n",
    "fig = plt.figure()  \n",
    "fig = result.plot()  \n",
    "fig.set_size_inches(15, 8)\n"
   ]
  },
  {
   "cell_type": "code",
   "execution_count": null,
   "metadata": {},
   "outputs": [],
   "source": [
    "decomposition = seasonal_decompose(ts.val.values, freq=20*4)  \n",
    "fig = plt.figure()  \n",
    "fig = decomposition.plot()  \n",
    "fig.set_size_inches(15, 8)"
   ]
  },
  {
   "cell_type": "code",
   "execution_count": null,
   "metadata": {},
   "outputs": [],
   "source": [
    "temp = pd.DataFrame(decomposition.seasonal)\n",
    "temp[temp> 2.5].dropna()"
   ]
  },
  {
   "cell_type": "code",
   "execution_count": null,
   "metadata": {},
   "outputs": [],
   "source": [
    "108/4"
   ]
  },
  {
   "cell_type": "code",
   "execution_count": null,
   "metadata": {},
   "outputs": [],
   "source": [
    "from pandas.plotting import autocorrelation_plot\n",
    "plt.figure(figsize=(20,10))\n",
    "autocorrelation_plot(ts.val)"
   ]
  },
  {
   "cell_type": "code",
   "execution_count": null,
   "metadata": {},
   "outputs": [],
   "source": [
    "test = pd.DataFrame(index=ts.index).reset_index().set_index(\"hours\")\n",
    "import numpy as np\n",
    "test[\"random\"] = np.random.normal(5, 2, len(test)) \n",
    "test[::24*4] += 50\n",
    "autocorrelation_plot(test.random)"
   ]
  },
  {
   "cell_type": "code",
   "execution_count": null,
   "metadata": {
    "collapsed": true
   },
   "outputs": [],
   "source": [
    "dec = seasonal_decompose(test.random.values, freq=24*4)"
   ]
  },
  {
   "cell_type": "code",
   "execution_count": null,
   "metadata": {},
   "outputs": [],
   "source": [
    "fig = plt.figure()  \n",
    "fig = dec.plot()  \n",
    "fig.set_size_inches(15, 8)"
   ]
  },
  {
   "cell_type": "code",
   "execution_count": null,
   "metadata": {
    "collapsed": true
   },
   "outputs": [],
   "source": []
  }
 ],
 "metadata": {
  "kernelspec": {
   "display_name": "Python 3",
   "language": "python",
   "name": "python3"
  },
  "language_info": {
   "codemirror_mode": {
    "name": "ipython",
    "version": 3
   },
   "file_extension": ".py",
   "mimetype": "text/x-python",
   "name": "python",
   "nbconvert_exporter": "python",
   "pygments_lexer": "ipython3",
   "version": "3.6.3"
  }
 },
 "nbformat": 4,
 "nbformat_minor": 1
}
