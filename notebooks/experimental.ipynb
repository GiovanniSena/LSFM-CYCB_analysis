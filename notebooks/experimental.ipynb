{
 "cells": [
  {
   "cell_type": "code",
   "execution_count": 1,
   "metadata": {
    "collapsed": true
   },
   "outputs": [],
   "source": [
    "# import numpy as np\n",
    "# divs = 10\n",
    "# f, axarr = plt.subplots(divs,divs,figsize=(15,11.5))\n",
    "# plt.axis('on')\n",
    "\n",
    "# for x in range(divs):\n",
    "#     for y in range(divs):\n",
    "#         tile1 = lightroot.io.tile(stack_sample,x,y,divs=divs)\n",
    "\n",
    "#         AX = axarr[y,x]\n",
    "#         AX.set_xticklabels([])\n",
    "#         AX.set_yticklabels([])\n",
    "        \n",
    "#         try:\n",
    "#             #res = lightroot.blobs.phasepack.phasesym(tile1)  \n",
    "#             res = lightroot.blobs.phasepack.phasecongmono(tile1)  \n",
    "#             tile1 =res[0]\n",
    "#             counts = dict(zip(*np.histogram(res[1].flatten())))\n",
    "#             angle = counts[np.array(list(counts.keys())).max() ]\n",
    "#             keys = sorted(list(counts.keys()))\n",
    "#             top_keys = \"{},{}\".format(int(counts[keys[-2]]),int(counts[keys[-1]]))  \n",
    "#             AX.imshow(tile1,'Spectral')    \n",
    "#             AX.text(20, 50, top_keys, color='white', fontsize=14)\n",
    "#         except Exception as ex:\n",
    "#             print(repr(ex))\n",
    "#             continue\n",
    "        \n",
    "# plt.subplots_adjust(wspace=0, hspace=0)"
   ]
  },
  {
   "cell_type": "code",
   "execution_count": null,
   "metadata": {
    "collapsed": true
   },
   "outputs": [],
   "source": [
    "\n",
    "# from matplotlib import pyplot as plt\n",
    "# tile1 = stack_sample\n",
    "# res = lightroot.blobs.phasepack.phasesymmono(tile1)\n",
    "# fig = plt.figure(figsize = (20,10)) \n",
    "# fig.colorbar(plt.imshow(res[0])) "
   ]
  }
 ],
 "metadata": {
  "kernelspec": {
   "display_name": "Python 3",
   "language": "python",
   "name": "python3"
  },
  "language_info": {
   "codemirror_mode": {
    "name": "ipython",
    "version": 3
   },
   "file_extension": ".py",
   "mimetype": "text/x-python",
   "name": "python",
   "nbconvert_exporter": "python",
   "pygments_lexer": "ipython3",
   "version": "3.6.3"
  }
 },
 "nbformat": 4,
 "nbformat_minor": 2
}
