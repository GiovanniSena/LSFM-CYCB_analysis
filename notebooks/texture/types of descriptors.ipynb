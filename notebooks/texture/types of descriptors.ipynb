{
 "cells": [
  {
   "cell_type": "code",
   "execution_count": null,
   "metadata": {
    "collapsed": true
   },
   "outputs": [],
   "source": [
    "#http://www.micc.unifi.it/delbimbo/wp-content/uploads/2011/10/slide_corso/A32_keypoint_detectors.pdf\n",
    "#http://mahotas.readthedocs.io/en/latest/index.html (surf and others)\n",
    "#http://scikit-image.org/docs/dev/auto_examples/features_detection/plot_local_binary_pattern.html\n",
    "#http://scikit-image.org/docs/dev/auto_examples/features_detection/plot_hog.html"
   ]
  }
 ],
 "metadata": {
  "kernelspec": {
   "display_name": "Python 3",
   "language": "python",
   "name": "python3"
  },
  "language_info": {
   "codemirror_mode": {
    "name": "ipython",
    "version": 3
   },
   "file_extension": ".py",
   "mimetype": "text/x-python",
   "name": "python",
   "nbconvert_exporter": "python",
   "pygments_lexer": "ipython3",
   "version": "3.6.3"
  }
 },
 "nbformat": 4,
 "nbformat_minor": 2
}
