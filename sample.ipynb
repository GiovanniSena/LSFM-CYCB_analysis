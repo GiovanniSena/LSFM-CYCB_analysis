{
 "cells": [
  {
   "cell_type": "markdown",
   "metadata": {},
   "source": [
    "# Sample\n",
    "\n",
    "This sample shows how the lightroot project works. Note important settings are confined to a settings file so that we try\n",
    "to make the slow batch jobs parameterless. The method names should be self-explantory - we sharpen images, pluck centroids and show a sample of the overlay. This process is carried out in batch to create a dataframe of blobs which is saved to txt files in the cached data folder. Having extracted centroids for all frames, the tracker builds the identities and writes the result to the cached data folder"
   ]
  },
  {
   "cell_type": "code",
   "execution_count": null,
   "metadata": {
    "scrolled": true
   },
   "outputs": [],
   "source": [
    "%matplotlib inline\n",
    "import lightroot"
   ]
  },
  {
   "cell_type": "markdown",
   "metadata": {},
   "source": [
    "# 1 Manually set file templates for processing"
   ]
  },
  {
   "cell_type": "code",
   "execution_count": null,
   "metadata": {
    "scrolled": true
   },
   "outputs": [],
   "source": [
    "pth  =\"C:/Users/mrsir/Box Sync/CYCB-GFP/cut/April 4 (cut run 192)/\"\n",
    "lightroot.SETTINGS[\"stack_files\"] = pth+\"Run0192_tp{:0>3}.tif\"\n",
    "lightroot.SETTINGS[\"maxint_files\"] = pth+\"Run0192_tp{}_MIP.tif\""
   ]
  },
  {
   "cell_type": "markdown",
   "metadata": {},
   "source": [
    "# 2 Loading frames"
   ]
  },
  {
   "cell_type": "code",
   "execution_count": null,
   "metadata": {},
   "outputs": [],
   "source": [
    "sample_time_frame =15\n",
    "stack = lightroot.io.get_stack(sample_time_frame)\n",
    "lightroot.io.plotimg(stack)"
   ]
  },
  {
   "cell_type": "markdown",
   "metadata": {},
   "source": [
    "# 3 Full frame detection routine"
   ]
  },
  {
   "cell_type": "code",
   "execution_count": null,
   "metadata": {
    "scrolled": false
   },
   "outputs": [],
   "source": [
    "id_ = 115\n",
    "stack = lightroot.io.get_stack(id_)\n",
    "out = []\n",
    "blob_centroids,stack = lightroot.blobs.detect(stack,  display_detections=False,  overlay_original_id=id_,out=out) #sharpen_iter=2, isolate_iter=2,\n",
    "lightroot.io.overlay_blobs(stack,blob_centroids,out)"
   ]
  },
  {
   "cell_type": "markdown",
   "metadata": {},
   "source": [
    "# 4 Running batch process"
   ]
  },
  {
   "cell_type": "code",
   "execution_count": null,
   "metadata": {
    "collapsed": true,
    "scrolled": true
   },
   "outputs": [],
   "source": [
    "#lightroot.process(\"C:/Users/mrsir/Box Sync/uncut/images/083117/149/\", log_to_file=False)"
   ]
  },
  {
   "cell_type": "markdown",
   "metadata": {},
   "source": [
    "# 5 Low-level steps"
   ]
  },
  {
   "cell_type": "markdown",
   "metadata": {},
   "source": [
    "## isolating roots via lowband"
   ]
  },
  {
   "cell_type": "markdown",
   "metadata": {},
   "source": [
    "### 2d"
   ]
  },
  {
   "cell_type": "code",
   "execution_count": null,
   "metadata": {},
   "outputs": [],
   "source": [
    "stack = lightroot.io.get_stack(1)\n",
    "lightroot.io.plotimg(stack)\n",
    "#im = stack.copy()\n",
    "stack = lightroot.blobs.low_pass_2d_proj_root_segmentation(stack, find_threshold_val=0.2)\n",
    "lightroot.io.plotimg(stack)"
   ]
  },
  {
   "cell_type": "code",
   "execution_count": null,
   "metadata": {},
   "outputs": [],
   "source": [
    "g2 = stack.copy()\n",
    "g2, blobs = lightroot.blobs.simple_detector(g2)\n",
    "\n",
    "lightroot.io.overlay_blobs(stack,blobs)"
   ]
  },
  {
   "cell_type": "code",
   "execution_count": null,
   "metadata": {},
   "outputs": [],
   "source": [
    "from scipy.ndimage import maximum_filter\n",
    "import pandas as pd\n",
    "from skimage import feature\n",
    "im = g2.copy()\n",
    "image_max = maximum_filter(im, size=10, mode='constant')\n",
    "coordinates = feature.peak_local_max(im, min_distance=5)\n",
    "df =  pd.DataFrame(coordinates,columns=[\"z\", \"y\", \"x\"])\n",
    "lightroot.io.overlay_blobs(stack,df)"
   ]
  },
  {
   "cell_type": "code",
   "execution_count": null,
   "metadata": {},
   "outputs": [],
   "source": [
    "import numpy as np\n",
    "import pandas as pd\n",
    "gap = 0.1\n",
    "tjreshold = 0.1\n",
    "im = stack.copy()\n",
    "im /= im.max()\n",
    "cuts = np.arange(0.1,1.0,gap)\n",
    "vals = np.array([np.count_nonzero(im[im>t]) for t in cuts],dtype=np.float)\n",
    "df = pd.DataFrame(vals, columns=[\"v\"])\n",
    "df[\"s\"] = df[\"v\"] / df[\"v\"].sum()\n",
    "df[\"d\"] = df[\"s\"].diff(-2).fillna(method='ffill') \n",
    "vals = list(df[\"d\"].values)\n",
    "\n",
    "df.plot()"
   ]
  },
  {
   "cell_type": "code",
   "execution_count": null,
   "metadata": {},
   "outputs": [],
   "source": [
    "df"
   ]
  },
  {
   "cell_type": "markdown",
   "metadata": {},
   "source": [
    "### 3d"
   ]
  },
  {
   "cell_type": "code",
   "execution_count": null,
   "metadata": {
    "collapsed": true
   },
   "outputs": [],
   "source": [
    "# stack= lightroot.blobs.low_pass_root_segmentation(stack)\n",
    "# lightroot.io.plotimg(stack_sample)"
   ]
  },
  {
   "cell_type": "markdown",
   "metadata": {},
   "source": [
    "## sharpening root region"
   ]
  },
  {
   "cell_type": "code",
   "execution_count": null,
   "metadata": {
    "scrolled": false
   },
   "outputs": [],
   "source": [
    "stack = lightroot.blobs.sharpen(stack, iterations=1)\n",
    "lightroot.io.plotimg(stack)"
   ]
  },
  {
   "cell_type": "markdown",
   "metadata": {},
   "source": [
    "## isolating blobs in data"
   ]
  },
  {
   "cell_type": "code",
   "execution_count": null,
   "metadata": {
    "collapsed": true,
    "scrolled": false
   },
   "outputs": [],
   "source": [
    "stack = lightroot.blobs.isolate(stack)\n",
    "ax = lightroot.io.plotimg(stack)"
   ]
  },
  {
   "cell_type": "code",
   "execution_count": null,
   "metadata": {
    "collapsed": true
   },
   "outputs": [],
   "source": [
    "from scipy import ndimage as ndi\n",
    "import matplotlib.pyplot as plt\n",
    "from skimage.feature import peak_local_max\n",
    "from skimage import data, img_as_float\n",
    "# display results\n",
    "import pandas as pd\n",
    "im = stack.copy()\n",
    "\n",
    "\n",
    "def peak_centroids(im, size=10, min_distance=10):\n",
    "    image_max = ndi.maximum_filter(im, size=size, mode='constant')\n",
    "    coordinates = peak_local_max(im, min_distance=min_distance)\n",
    "    return pd.DataFrame(coordinates,columns=[\"z\", \"y\", \"x\"])\n",
    "\n",
    "blob_centroids = peak_centroids(im)\n",
    "lightroot.io.overlay_blobs(stack,blobs_centroids)"
   ]
  },
  {
   "cell_type": "markdown",
   "metadata": {},
   "source": [
    "## marking centroids"
   ]
  },
  {
   "cell_type": "code",
   "execution_count": null,
   "metadata": {
    "collapsed": true,
    "scrolled": false
   },
   "outputs": [],
   "source": [
    "\n",
    "blobs_centroids = lightroot.blobs.blob_centroids(stack, display=True, max_final_ecc=0.95,min_final_volume=1000, underlying_image=stack)\n",
    "lightroot.io.overlay_blobs(stack,blobs_centroids)"
   ]
  },
  {
   "cell_type": "code",
   "execution_count": null,
   "metadata": {
    "collapsed": true
   },
   "outputs": [],
   "source": [
    "#https://homepages.inf.ed.ac.uk/rbf/HIPR2/fourier.htm"
   ]
  },
  {
   "cell_type": "code",
   "execution_count": null,
   "metadata": {
    "collapsed": true
   },
   "outputs": [],
   "source": []
  }
 ],
 "metadata": {
  "kernelspec": {
   "display_name": "Python 3",
   "language": "python",
   "name": "python3"
  },
  "language_info": {
   "codemirror_mode": {
    "name": "ipython",
    "version": 3
   },
   "file_extension": ".py",
   "mimetype": "text/x-python",
   "name": "python",
   "nbconvert_exporter": "python",
   "pygments_lexer": "ipython3",
   "version": "3.6.3"
  }
 },
 "nbformat": 4,
 "nbformat_minor": 1
}
