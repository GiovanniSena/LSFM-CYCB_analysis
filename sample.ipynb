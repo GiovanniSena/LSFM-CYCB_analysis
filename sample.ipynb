{
 "cells": [
  {
   "cell_type": "markdown",
   "metadata": {},
   "source": [
    "# Sample\n",
    "\n",
    "This sample shows how the lightroot project works. Note important settings are confined to a settings file so that we try\n",
    "to make the slow batch jobs parameterless. The method names should be self-explantory - we sharpen images, pluck centroids and show a sample of the overlay. This process is carried out in batch to create a dataframe of blobs which is saved to txt files in the cached data folder. Having extracted centroids for all frames, the tracker builds the identities and writes the result to the cached data folder"
   ]
  },
  {
   "cell_type": "code",
   "execution_count": null,
   "metadata": {
    "collapsed": false
   },
   "outputs": [],
   "source": [
    "%matplotlib inline\n",
    "import lightroot"
   ]
  },
  {
   "cell_type": "code",
   "execution_count": null,
   "metadata": {
    "collapsed": false
   },
   "outputs": [],
   "source": [
    "sample_time_frame = 84\n",
    "stack = lightroot.io.get_stack(sample_time_frame)\n",
    "max_int = lightroot.io.get_max_int(sample_time_frame)\n",
    "lightroot.io.plotimg(stack)\n",
    "lightroot.io.plotimg(max_int)"
   ]
  },
  {
   "cell_type": "code",
   "execution_count": null,
   "metadata": {
    "collapsed": false
   },
   "outputs": [],
   "source": [
    "#blobs=lightroot.blobs.detect(stack) does the following steps\n",
    "stack = lightroot.blobs.sharpen(stack)\n",
    "#lightroot.io.plotimg(stack)"
   ]
  },
  {
   "cell_type": "code",
   "execution_count": null,
   "metadata": {
    "collapsed": false
   },
   "outputs": [],
   "source": [
    "stack = lightroot.blobs.blob_labels(stack)\n",
    "blobs = lightroot.blobs.blob_centroids(stack)\n",
    "lightroot.io.overlay_blobs(stack,blobs)"
   ]
  },
  {
   "cell_type": "code",
   "execution_count": null,
   "metadata": {
    "collapsed": false
   },
   "outputs": [],
   "source": [
    "n = 10\n",
    "all_blobs = lightroot.process_files(n)\n",
    "print(\"processing tracks\")\n",
    "tracks = lightroot.tracks_from_blobs(all_blobs, n,\"./cached_data/{}.png\")"
   ]
  },
  {
   "cell_type": "code",
   "execution_count": null,
   "metadata": {
    "collapsed": true
   },
   "outputs": [],
   "source": []
  }
 ],
 "metadata": {
  "kernelspec": {
   "display_name": "Python 3",
   "language": "python",
   "name": "python3"
  },
  "language_info": {
   "codemirror_mode": {
    "name": "ipython",
    "version": 3
   },
   "file_extension": ".py",
   "mimetype": "text/x-python",
   "name": "python",
   "nbconvert_exporter": "python",
   "pygments_lexer": "ipython3",
   "version": "3.5.2"
  }
 },
 "nbformat": 4,
 "nbformat_minor": 0
}
